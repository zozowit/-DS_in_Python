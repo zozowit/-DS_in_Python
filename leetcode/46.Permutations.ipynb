{
 "cells": [
  {
   "cell_type": "markdown",
   "metadata": {},
   "source": [
    "Given a collection of distinct integers, return all possible permutations.\n",
    "\n",
    "Example:\n",
    "\n",
    "Input: [1,2,3]\n",
    "Output:\n",
    "[\n",
    "  [1,2,3],\n",
    "  [1,3,2],\n",
    "  [2,1,3],\n",
    "  [2,3,1],\n",
    "  [3,1,2],\n",
    "  [3,2,1]\n",
    "]"
   ]
  },
  {
   "cell_type": "code",
   "execution_count": null,
   "metadata": {},
   "outputs": [],
   "source": []
  },
  {
   "cell_type": "code",
   "execution_count": 29,
   "metadata": {},
   "outputs": [],
   "source": [
    "class Solution:\n",
    "    def permute(self, nums):\n",
    "        \"\"\"\n",
    "        :type nums: List[int]\n",
    "        :rtype: List[List[int]]\n",
    "        \"\"\"\n",
    "        # each result in result\n",
    "        each_result = []\n",
    "        \n",
    "        # all result\n",
    "        result = []\n",
    "        self.pick(nums, each_result, result, 0)\n",
    "        \n",
    "        print('final result: ', result)\n",
    "        return result\n",
    "        \n",
    "    def pick(self, nums, each_result, result,iter_count):\n",
    "        iter_count = iter_count * 4\n",
    "        #print(' '* iter_count, 'pick enter nums is : ', nums, 'len is ', len(nums))\n",
    "        if len(nums) == 0:\n",
    "            # make a copy\n",
    "            temp = each_result[:]\n",
    "            #print(' '* iter_count, 'got a valid each_result ', each_result)\n",
    "            \n",
    "            # store to total result\n",
    "            result.append(temp)\n",
    "            #print(' '* iter_count, 'result is ', result)\n",
    "            \n",
    "            # return to complete the iteration\n",
    "            return\n",
    "            \n",
    "        for i in range(len(nums)):\n",
    "            # pick i num as first on\n",
    "            each_result.append(nums[i])\n",
    "            #print(' '* iter_count, '    in for loop each_result append', each_result, nums[i])\n",
    "            \n",
    "            # remove nums from nums array, get nums_next\n",
    "            nums_next = nums[:]\n",
    "            nums_next.pop(i)\n",
    "            \n",
    "            #pick next one\n",
    "            self.pick(nums_next, each_result, result, iter_count+1)\n",
    "            n = each_result.pop()\n",
    "            #print(' '* iter_count, '    in for loop each_result pop: ', n, 'each_result is ', each_result)"
   ]
  },
  {
   "cell_type": "code",
   "execution_count": 30,
   "metadata": {},
   "outputs": [
    {
     "name": "stdout",
     "output_type": "stream",
     "text": [
      " pick enter nums is :  [1, 2, 3] len is  3\n",
      "     in for loop each_result append [1] 1\n",
      "     pick enter nums is :  [2, 3] len is  2\n",
      "         in for loop each_result append [1, 2] 2\n",
      "                     pick enter nums is :  [3] len is  1\n",
      "                         in for loop each_result append [1, 2, 3] 3\n",
      "                                                                                     pick enter nums is :  [] len is  0\n",
      "                                                                                     got a valid each_result  [1, 2, 3]\n",
      "                                                                                     result is  [[1, 2, 3]]\n",
      "                         in for loop each_result pop:  3 each_result is  [1, 2]\n",
      "         in for loop each_result pop:  2 each_result is  [1]\n",
      "         in for loop each_result append [1, 3] 3\n",
      "                     pick enter nums is :  [2] len is  1\n",
      "                         in for loop each_result append [1, 3, 2] 2\n",
      "                                                                                     pick enter nums is :  [] len is  0\n",
      "                                                                                     got a valid each_result  [1, 3, 2]\n",
      "                                                                                     result is  [[1, 2, 3], [1, 3, 2]]\n",
      "                         in for loop each_result pop:  2 each_result is  [1, 3]\n",
      "         in for loop each_result pop:  3 each_result is  [1]\n",
      "     in for loop each_result pop:  1 each_result is  []\n",
      "     in for loop each_result append [2] 2\n",
      "     pick enter nums is :  [1, 3] len is  2\n",
      "         in for loop each_result append [2, 1] 1\n",
      "                     pick enter nums is :  [3] len is  1\n",
      "                         in for loop each_result append [2, 1, 3] 3\n",
      "                                                                                     pick enter nums is :  [] len is  0\n",
      "                                                                                     got a valid each_result  [2, 1, 3]\n",
      "                                                                                     result is  [[1, 2, 3], [1, 3, 2], [2, 1, 3]]\n",
      "                         in for loop each_result pop:  3 each_result is  [2, 1]\n",
      "         in for loop each_result pop:  1 each_result is  [2]\n",
      "         in for loop each_result append [2, 3] 3\n",
      "                     pick enter nums is :  [1] len is  1\n",
      "                         in for loop each_result append [2, 3, 1] 1\n",
      "                                                                                     pick enter nums is :  [] len is  0\n",
      "                                                                                     got a valid each_result  [2, 3, 1]\n",
      "                                                                                     result is  [[1, 2, 3], [1, 3, 2], [2, 1, 3], [2, 3, 1]]\n",
      "                         in for loop each_result pop:  1 each_result is  [2, 3]\n",
      "         in for loop each_result pop:  3 each_result is  [2]\n",
      "     in for loop each_result pop:  2 each_result is  []\n",
      "     in for loop each_result append [3] 3\n",
      "     pick enter nums is :  [1, 2] len is  2\n",
      "         in for loop each_result append [3, 1] 1\n",
      "                     pick enter nums is :  [2] len is  1\n",
      "                         in for loop each_result append [3, 1, 2] 2\n",
      "                                                                                     pick enter nums is :  [] len is  0\n",
      "                                                                                     got a valid each_result  [3, 1, 2]\n",
      "                                                                                     result is  [[1, 2, 3], [1, 3, 2], [2, 1, 3], [2, 3, 1], [3, 1, 2]]\n",
      "                         in for loop each_result pop:  2 each_result is  [3, 1]\n",
      "         in for loop each_result pop:  1 each_result is  [3]\n",
      "         in for loop each_result append [3, 2] 2\n",
      "                     pick enter nums is :  [1] len is  1\n",
      "                         in for loop each_result append [3, 2, 1] 1\n",
      "                                                                                     pick enter nums is :  [] len is  0\n",
      "                                                                                     got a valid each_result  [3, 2, 1]\n",
      "                                                                                     result is  [[1, 2, 3], [1, 3, 2], [2, 1, 3], [2, 3, 1], [3, 1, 2], [3, 2, 1]]\n",
      "                         in for loop each_result pop:  1 each_result is  [3, 2]\n",
      "         in for loop each_result pop:  2 each_result is  [3]\n",
      "     in for loop each_result pop:  3 each_result is  []\n",
      "final result:  [[1, 2, 3], [1, 3, 2], [2, 1, 3], [2, 3, 1], [3, 1, 2], [3, 2, 1]]\n"
     ]
    }
   ],
   "source": [
    "a = Solution()\n",
    "\n",
    "result = a.permute([1,2,3])"
   ]
  },
  {
   "cell_type": "code",
   "execution_count": 14,
   "metadata": {},
   "outputs": [],
   "source": [
    "n = [1,2,3]\n",
    "p = n[:]"
   ]
  },
  {
   "cell_type": "code",
   "execution_count": 15,
   "metadata": {},
   "outputs": [
    {
     "data": {
      "text/plain": [
       "2"
      ]
     },
     "execution_count": 15,
     "metadata": {},
     "output_type": "execute_result"
    }
   ],
   "source": [
    "n.pop(1)"
   ]
  },
  {
   "cell_type": "code",
   "execution_count": 16,
   "metadata": {},
   "outputs": [
    {
     "data": {
      "text/plain": [
       "[1, 3]"
      ]
     },
     "execution_count": 16,
     "metadata": {},
     "output_type": "execute_result"
    }
   ],
   "source": [
    "n"
   ]
  },
  {
   "cell_type": "code",
   "execution_count": 17,
   "metadata": {},
   "outputs": [
    {
     "data": {
      "text/plain": [
       "[1, 2, 3]"
      ]
     },
     "execution_count": 17,
     "metadata": {},
     "output_type": "execute_result"
    }
   ],
   "source": [
    "p"
   ]
  },
  {
   "cell_type": "code",
   "execution_count": null,
   "metadata": {},
   "outputs": [],
   "source": []
  }
 ],
 "metadata": {
  "kernelspec": {
   "display_name": "Python 3",
   "language": "python",
   "name": "python3"
  },
  "language_info": {
   "codemirror_mode": {
    "name": "ipython",
    "version": 3
   },
   "file_extension": ".py",
   "mimetype": "text/x-python",
   "name": "python",
   "nbconvert_exporter": "python",
   "pygments_lexer": "ipython3",
   "version": "3.6.6"
  }
 },
 "nbformat": 4,
 "nbformat_minor": 2
}
