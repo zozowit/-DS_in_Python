{
 "cells": [
  {
   "cell_type": "markdown",
   "metadata": {},
   "source": [
    "Given a collection of candidate numbers (candidates) and a target number (target), find all unique combinations in candidates where the candidate numbers sums to target.\n",
    "\n",
    "Each number in candidates may only be used once in the combination.\n",
    "\n",
    "Note:\n",
    "\n",
    "All numbers (including target) will be positive integers.\n",
    "The solution set must not contain duplicate combinations.\n",
    "Example 1:\n",
    "\n",
    "Input: candidates = [10,1,2,7,6,1,5], target = 8,\n",
    "A solution set is:\n",
    "[\n",
    "  [1, 7],\n",
    "  [1, 2, 5],\n",
    "  [2, 6],\n",
    "  [1, 1, 6]\n",
    "]\n",
    "Example 2:\n",
    "\n",
    "Input: candidates = [2,5,2,1,2], target = 5,\n",
    "A solution set is:\n",
    "[\n",
    "  [1,2,2],\n",
    "  [5]\n",
    "]"
   ]
  },
  {
   "cell_type": "code",
   "execution_count": null,
   "metadata": {},
   "outputs": [],
   "source": [
    "class Solution:\n",
    "    def combinationSum2(self, candidates, target):\n",
    "        \"\"\"\n",
    "        :type candidates: List[int]\n",
    "        :type target: int\n",
    "        :rtype: List[List[int]]\n",
    "        \"\"\"\n",
    "        # get the length of candidates list\n",
    "        c_len = len(candidates)\n",
    "        \n",
    "        # temp list to go though the process\n",
    "        temp_list = []\n",
    "        \n",
    "        # pick a value from candidates\n",
    "        for i in range(0, c_len-1):\n",
    "            # pick one item\n",
    "            temp_list.append\n",
    "        "
   ]
  }
 ],
 "metadata": {
  "kernelspec": {
   "display_name": "Python 3",
   "language": "python",
   "name": "python3"
  },
  "language_info": {
   "codemirror_mode": {
    "name": "ipython",
    "version": 3
   },
   "file_extension": ".py",
   "mimetype": "text/x-python",
   "name": "python",
   "nbconvert_exporter": "python",
   "pygments_lexer": "ipython3",
   "version": "3.6.6"
  }
 },
 "nbformat": 4,
 "nbformat_minor": 2
}
