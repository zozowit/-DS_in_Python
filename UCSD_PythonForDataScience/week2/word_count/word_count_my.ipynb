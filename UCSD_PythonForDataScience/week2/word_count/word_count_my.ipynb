{
 "cells": [
  {
   "cell_type": "code",
   "execution_count": 40,
   "metadata": {},
   "outputs": [],
   "source": [
    "import collections as cl\n",
    "\n",
    "word_file = open('98-0.txt', encoding='UTF-8')\n",
    "stopwords_file = open('stopwords', encoding='UTF-8')\n",
    "\n",
    "# create a dictionary to store the count info\n",
    "word_count = {}\n",
    "\n",
    "# s = word_file.read()\n",
    "# s\n",
    "stopwords = []\n",
    "for each_line in stopwords_file:\n",
    "    stopwords.append(each_line.strip('\\n'))\n",
    "    #print(each_line)\n",
    "    \n",
    "stopwords = set(stopwords)\n",
    "#print(type(stopwords))\n",
    "#print(stopwords)"
   ]
  },
  {
   "cell_type": "code",
   "execution_count": 43,
   "metadata": {},
   "outputs": [
    {
     "name": "stdout",
     "output_type": "stream",
     "text": [
      "said: 657\n",
      "mr: 616\n",
      "one: 435\n",
      "lorry: 335\n",
      "will: 294\n",
      "upon: 291\n",
      "man: 279\n",
      "defarge: 279\n",
      "little: 265\n",
      "time: 258\n"
     ]
    }
   ],
   "source": [
    "for eachline in word_file:\n",
    "    eachline.strip('\\n')\n",
    "    for word in eachline.lower().split():\n",
    "        #print(word)\n",
    "        word = word.replace('.', '')\n",
    "        word = word.replace(',', '')\n",
    "        word = word.replace(':', '')\n",
    "        word = word.replace('”', '')\n",
    "        word = word.replace('“', '')\n",
    "        word = word.replace('?', '')\n",
    "        word = word.replace(';', '')\n",
    "        word = word.replace('!', '')\n",
    "        #print(word)\n",
    "        \n",
    "        if word not in stopwords:\n",
    "            if word not in word_count:\n",
    "                word_count[word] = 1\n",
    "            else:\n",
    "                word_count[word] = word_count[word] + 1\n",
    "                \n",
    "count = cl.Counter(word_count).most_common(10)\n",
    "# count\n",
    "\n",
    "for most_word, most_count in count:\n",
    "    print(\"{}: {}\".format(most_word, most_count))"
   ]
  },
  {
   "cell_type": "code",
   "execution_count": null,
   "metadata": {},
   "outputs": [],
   "source": []
  }
 ],
 "metadata": {
  "kernelspec": {
   "display_name": "Python 3",
   "language": "python",
   "name": "python3"
  },
  "language_info": {
   "codemirror_mode": {
    "name": "ipython",
    "version": 3
   },
   "file_extension": ".py",
   "mimetype": "text/x-python",
   "name": "python",
   "nbconvert_exporter": "python",
   "pygments_lexer": "ipython3",
   "version": "3.6.6"
  }
 },
 "nbformat": 4,
 "nbformat_minor": 2
}
