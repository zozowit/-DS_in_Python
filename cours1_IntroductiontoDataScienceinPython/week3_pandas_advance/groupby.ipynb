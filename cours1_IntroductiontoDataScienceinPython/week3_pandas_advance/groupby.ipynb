{
 "cells": [
  {
   "cell_type": "code",
   "execution_count": 2,
   "metadata": {},
   "outputs": [
    {
     "data": {
      "text/html": [
       "<div>\n",
       "<style scoped>\n",
       "    .dataframe tbody tr th:only-of-type {\n",
       "        vertical-align: middle;\n",
       "    }\n",
       "\n",
       "    .dataframe tbody tr th {\n",
       "        vertical-align: top;\n",
       "    }\n",
       "\n",
       "    .dataframe thead th {\n",
       "        text-align: right;\n",
       "    }\n",
       "</style>\n",
       "<table border=\"1\" class=\"dataframe\">\n",
       "  <thead>\n",
       "    <tr style=\"text-align: right;\">\n",
       "      <th></th>\n",
       "      <th>Brand</th>\n",
       "      <th>Cloth</th>\n",
       "      <th>Count</th>\n",
       "      <th>Name</th>\n",
       "    </tr>\n",
       "  </thead>\n",
       "  <tbody>\n",
       "    <tr>\n",
       "      <th>0</th>\n",
       "      <td>uniql</td>\n",
       "      <td>sweater</td>\n",
       "      <td>3</td>\n",
       "      <td>girl</td>\n",
       "    </tr>\n",
       "    <tr>\n",
       "      <th>1</th>\n",
       "      <td>etam</td>\n",
       "      <td>suit</td>\n",
       "      <td>1</td>\n",
       "      <td>girl</td>\n",
       "    </tr>\n",
       "    <tr>\n",
       "      <th>2</th>\n",
       "      <td>etam</td>\n",
       "      <td>pants</td>\n",
       "      <td>1</td>\n",
       "      <td>girl</td>\n",
       "    </tr>\n",
       "    <tr>\n",
       "      <th>3</th>\n",
       "      <td>lagogo</td>\n",
       "      <td>jacket</td>\n",
       "      <td>2</td>\n",
       "      <td>girl</td>\n",
       "    </tr>\n",
       "    <tr>\n",
       "      <th>4</th>\n",
       "      <td></td>\n",
       "      <td>pants</td>\n",
       "      <td>2</td>\n",
       "      <td>boy</td>\n",
       "    </tr>\n",
       "    <tr>\n",
       "      <th>5</th>\n",
       "      <td>hailan</td>\n",
       "      <td>t-shirt</td>\n",
       "      <td>1</td>\n",
       "      <td>boy</td>\n",
       "    </tr>\n",
       "    <tr>\n",
       "      <th>6</th>\n",
       "      <td>hengyuanxiang</td>\n",
       "      <td>coat</td>\n",
       "      <td>2</td>\n",
       "      <td>mother</td>\n",
       "    </tr>\n",
       "    <tr>\n",
       "      <th>7</th>\n",
       "      <td>hengyuanxiang</td>\n",
       "      <td>sweater</td>\n",
       "      <td>1</td>\n",
       "      <td>mother</td>\n",
       "    </tr>\n",
       "    <tr>\n",
       "      <th>8</th>\n",
       "      <td></td>\n",
       "      <td>coat</td>\n",
       "      <td>1</td>\n",
       "      <td>mother</td>\n",
       "    </tr>\n",
       "    <tr>\n",
       "      <th>9</th>\n",
       "      <td>hailan</td>\n",
       "      <td>t-shirt</td>\n",
       "      <td>2</td>\n",
       "      <td>father</td>\n",
       "    </tr>\n",
       "    <tr>\n",
       "      <th>10</th>\n",
       "      <td>hailan</td>\n",
       "      <td>sweater</td>\n",
       "      <td>1</td>\n",
       "      <td>father</td>\n",
       "    </tr>\n",
       "    <tr>\n",
       "      <th>11</th>\n",
       "      <td>hailan</td>\n",
       "      <td>pants</td>\n",
       "      <td>3</td>\n",
       "      <td>father</td>\n",
       "    </tr>\n",
       "  </tbody>\n",
       "</table>\n",
       "</div>"
      ],
      "text/plain": [
       "            Brand    Cloth  Count    Name\n",
       "0           uniql  sweater      3    girl\n",
       "1            etam     suit      1    girl\n",
       "2            etam    pants      1    girl\n",
       "3          lagogo   jacket      2    girl\n",
       "4                    pants      2     boy\n",
       "5          hailan  t-shirt      1     boy\n",
       "6   hengyuanxiang     coat      2  mother\n",
       "7   hengyuanxiang  sweater      1  mother\n",
       "8                     coat      1  mother\n",
       "9          hailan  t-shirt      2  father\n",
       "10         hailan  sweater      1  father\n",
       "11         hailan    pants      3  father"
      ]
     },
     "execution_count": 2,
     "metadata": {},
     "output_type": "execute_result"
    }
   ],
   "source": [
    "# create data\n",
    "import pandas as pd\n",
    "data = pd.DataFrame([{'Name':'girl','Brand':'uniql','Cloth':'sweater','Count':3},\n",
    "                    {'Name':'girl','Brand':'etam','Cloth':'suit','Count':1},\n",
    "                    {'Name':'girl','Brand':'etam','Cloth':'pants','Count':1},\n",
    "                    {'Name':'girl','Brand':'lagogo','Cloth':'jacket','Count':2},\n",
    "                    {'Name':'boy','Brand':'','Cloth':'pants','Count':2},\n",
    "                    {'Name':'boy','Brand':'hailan','Cloth':'t-shirt','Count':1},\n",
    "                    {'Name':'mother','Brand':'hengyuanxiang','Cloth':'coat','Count':2},\n",
    "                    {'Name':'mother','Brand':'hengyuanxiang','Cloth':'sweater','Count':1},\n",
    "                    {'Name':'mother','Brand':'','Cloth':'coat','Count':1},\n",
    "                    {'Name':'father','Brand':'hailan','Cloth':'t-shirt','Count':2},\n",
    "                    {'Name':'father','Brand':'hailan','Cloth':'sweater','Count':1},\n",
    "                    {'Name':'father','Brand':'hailan','Cloth':'pants','Count':3}])\n",
    "data"
   ]
  },
  {
   "cell_type": "code",
   "execution_count": 5,
   "metadata": {},
   "outputs": [
    {
     "name": "stdout",
     "output_type": "stream",
     "text": [
      "Index(['Brand', 'Cloth', 'Count', 'Name'], dtype='object')\n",
      "Brand\n",
      "Cloth\n"
     ]
    }
   ],
   "source": [
    "# get columns\n",
    "print(data.columns)\n",
    "print(data.columns[0])\n",
    "print(data.columns[1])"
   ]
  },
  {
   "cell_type": "code",
   "execution_count": 6,
   "metadata": {},
   "outputs": [
    {
     "data": {
      "text/plain": [
       "RangeIndex(start=0, stop=12, step=1)"
      ]
     },
     "execution_count": 6,
     "metadata": {},
     "output_type": "execute_result"
    }
   ],
   "source": [
    "# get index\n",
    "data.index"
   ]
  },
  {
   "cell_type": "code",
   "execution_count": 7,
   "metadata": {},
   "outputs": [
    {
     "data": {
      "text/plain": [
       "array([['uniql', 'sweater', 3, 'girl'],\n",
       "       ['etam', 'suit', 1, 'girl'],\n",
       "       ['etam', 'pants', 1, 'girl'],\n",
       "       ['lagogo', 'jacket', 2, 'girl'],\n",
       "       ['', 'pants', 2, 'boy'],\n",
       "       ['hailan', 't-shirt', 1, 'boy'],\n",
       "       ['hengyuanxiang', 'coat', 2, 'mother'],\n",
       "       ['hengyuanxiang', 'sweater', 1, 'mother'],\n",
       "       ['', 'coat', 1, 'mother'],\n",
       "       ['hailan', 't-shirt', 2, 'father'],\n",
       "       ['hailan', 'sweater', 1, 'father'],\n",
       "       ['hailan', 'pants', 3, 'father']], dtype=object)"
      ]
     },
     "execution_count": 7,
     "metadata": {},
     "output_type": "execute_result"
    }
   ],
   "source": [
    "# get values\n",
    "data.values"
   ]
  },
  {
   "cell_type": "code",
   "execution_count": 13,
   "metadata": {},
   "outputs": [
    {
     "data": {
      "text/plain": [
       "''"
      ]
     },
     "execution_count": 13,
     "metadata": {},
     "output_type": "execute_result"
    }
   ],
   "source": [
    "data['Brand'][4]"
   ]
  },
  {
   "cell_type": "code",
   "execution_count": 14,
   "metadata": {},
   "outputs": [
    {
     "data": {
      "text/plain": [
       "array(['uniql', 'sweater', 3, 'girl'], dtype=object)"
      ]
     },
     "execution_count": 14,
     "metadata": {},
     "output_type": "execute_result"
    }
   ],
   "source": [
    "# get a row\n",
    "data.values[0]"
   ]
  },
  {
   "cell_type": "code",
   "execution_count": 15,
   "metadata": {},
   "outputs": [
    {
     "data": {
      "text/plain": [
       "'girl'"
      ]
     },
     "execution_count": 15,
     "metadata": {},
     "output_type": "execute_result"
    }
   ],
   "source": [
    "# get a grid\n",
    "data.values[0][3]"
   ]
  },
  {
   "cell_type": "code",
   "execution_count": 25,
   "metadata": {},
   "outputs": [
    {
     "name": "stdout",
     "output_type": "stream",
     "text": [
      "            Brand    Cloth  Count    Name\n",
      "0           uniql  sweater      3    girl\n",
      "1            etam     suit      1    girl\n",
      "2            etam    pants      1    girl\n",
      "3          lagogo   jacket      2    girl\n",
      "4                    pants      2     boy\n",
      "5          hailan  t-shirt      1     boy\n",
      "6   hengyuanxiang     coat      2  mother\n",
      "7   hengyuanxiang  sweater      1  mother\n",
      "8                     coat      1  mother\n",
      "9          hailan  t-shirt      2  father\n",
      "10         hailan  sweater      1  father\n",
      "11         hailan    pants      3  father\n",
      "---------------------\n",
      "<pandas.core.groupby.groupby.DataFrameGroupBy object at 0x0000020A7C2B9BE0>\n"
     ]
    }
   ],
   "source": [
    "# groud by key word\n",
    "print(data)\n",
    "print('---------------------')\n",
    "print(data.groupby('Brand'))\n",
    "gp_brand = data.groupby('Brand')"
   ]
  },
  {
   "cell_type": "code",
   "execution_count": 26,
   "metadata": {},
   "outputs": [
    {
     "data": {
      "text/html": [
       "<div>\n",
       "<style scoped>\n",
       "    .dataframe tbody tr th:only-of-type {\n",
       "        vertical-align: middle;\n",
       "    }\n",
       "\n",
       "    .dataframe tbody tr th {\n",
       "        vertical-align: top;\n",
       "    }\n",
       "\n",
       "    .dataframe thead th {\n",
       "        text-align: right;\n",
       "    }\n",
       "</style>\n",
       "<table border=\"1\" class=\"dataframe\">\n",
       "  <thead>\n",
       "    <tr style=\"text-align: right;\">\n",
       "      <th></th>\n",
       "      <th>Cloth</th>\n",
       "      <th>Count</th>\n",
       "      <th>Name</th>\n",
       "    </tr>\n",
       "    <tr>\n",
       "      <th>Brand</th>\n",
       "      <th></th>\n",
       "      <th></th>\n",
       "      <th></th>\n",
       "    </tr>\n",
       "  </thead>\n",
       "  <tbody>\n",
       "    <tr>\n",
       "      <th></th>\n",
       "      <td>2</td>\n",
       "      <td>2</td>\n",
       "      <td>2</td>\n",
       "    </tr>\n",
       "    <tr>\n",
       "      <th>etam</th>\n",
       "      <td>2</td>\n",
       "      <td>2</td>\n",
       "      <td>2</td>\n",
       "    </tr>\n",
       "    <tr>\n",
       "      <th>hailan</th>\n",
       "      <td>4</td>\n",
       "      <td>4</td>\n",
       "      <td>4</td>\n",
       "    </tr>\n",
       "    <tr>\n",
       "      <th>hengyuanxiang</th>\n",
       "      <td>2</td>\n",
       "      <td>2</td>\n",
       "      <td>2</td>\n",
       "    </tr>\n",
       "    <tr>\n",
       "      <th>lagogo</th>\n",
       "      <td>1</td>\n",
       "      <td>1</td>\n",
       "      <td>1</td>\n",
       "    </tr>\n",
       "    <tr>\n",
       "      <th>uniql</th>\n",
       "      <td>1</td>\n",
       "      <td>1</td>\n",
       "      <td>1</td>\n",
       "    </tr>\n",
       "  </tbody>\n",
       "</table>\n",
       "</div>"
      ],
      "text/plain": [
       "               Cloth  Count  Name\n",
       "Brand                            \n",
       "                   2      2     2\n",
       "etam               2      2     2\n",
       "hailan             4      4     4\n",
       "hengyuanxiang      2      2     2\n",
       "lagogo             1      1     1\n",
       "uniql              1      1     1"
      ]
     },
     "execution_count": 26,
     "metadata": {},
     "output_type": "execute_result"
    }
   ],
   "source": [
    "# count by brand\n",
    "gp_brand.count()"
   ]
  },
  {
   "cell_type": "code",
   "execution_count": 27,
   "metadata": {},
   "outputs": [
    {
     "data": {
      "text/plain": [
       "Index(['', 'etam', 'hailan', 'hengyuanxiang', 'lagogo', 'uniql'], dtype='object', name='Brand')"
      ]
     },
     "execution_count": 27,
     "metadata": {},
     "output_type": "execute_result"
    }
   ],
   "source": [
    "# group by brand, so the index is brand\n",
    "gp_brand.count().index"
   ]
  },
  {
   "cell_type": "code",
   "execution_count": 28,
   "metadata": {},
   "outputs": [
    {
     "data": {
      "text/html": [
       "<div>\n",
       "<style scoped>\n",
       "    .dataframe tbody tr th:only-of-type {\n",
       "        vertical-align: middle;\n",
       "    }\n",
       "\n",
       "    .dataframe tbody tr th {\n",
       "        vertical-align: top;\n",
       "    }\n",
       "\n",
       "    .dataframe thead th {\n",
       "        text-align: right;\n",
       "    }\n",
       "</style>\n",
       "<table border=\"1\" class=\"dataframe\">\n",
       "  <thead>\n",
       "    <tr style=\"text-align: right;\">\n",
       "      <th></th>\n",
       "      <th>Brand</th>\n",
       "      <th>Cloth</th>\n",
       "      <th>Count</th>\n",
       "      <th>Name</th>\n",
       "    </tr>\n",
       "  </thead>\n",
       "  <tbody>\n",
       "    <tr>\n",
       "      <th>0</th>\n",
       "      <td>uniql</td>\n",
       "      <td>sweater</td>\n",
       "      <td>3</td>\n",
       "      <td>girl</td>\n",
       "    </tr>\n",
       "    <tr>\n",
       "      <th>1</th>\n",
       "      <td>etam</td>\n",
       "      <td>suit</td>\n",
       "      <td>1</td>\n",
       "      <td>girl</td>\n",
       "    </tr>\n",
       "    <tr>\n",
       "      <th>2</th>\n",
       "      <td>etam</td>\n",
       "      <td>pants</td>\n",
       "      <td>1</td>\n",
       "      <td>girl</td>\n",
       "    </tr>\n",
       "    <tr>\n",
       "      <th>3</th>\n",
       "      <td>lagogo</td>\n",
       "      <td>jacket</td>\n",
       "      <td>2</td>\n",
       "      <td>girl</td>\n",
       "    </tr>\n",
       "    <tr>\n",
       "      <th>4</th>\n",
       "      <td></td>\n",
       "      <td>pants</td>\n",
       "      <td>2</td>\n",
       "      <td>boy</td>\n",
       "    </tr>\n",
       "    <tr>\n",
       "      <th>5</th>\n",
       "      <td>hailan</td>\n",
       "      <td>t-shirt</td>\n",
       "      <td>1</td>\n",
       "      <td>boy</td>\n",
       "    </tr>\n",
       "    <tr>\n",
       "      <th>6</th>\n",
       "      <td>hengyuanxiang</td>\n",
       "      <td>coat</td>\n",
       "      <td>2</td>\n",
       "      <td>mother</td>\n",
       "    </tr>\n",
       "    <tr>\n",
       "      <th>7</th>\n",
       "      <td>hengyuanxiang</td>\n",
       "      <td>sweater</td>\n",
       "      <td>1</td>\n",
       "      <td>mother</td>\n",
       "    </tr>\n",
       "    <tr>\n",
       "      <th>8</th>\n",
       "      <td></td>\n",
       "      <td>coat</td>\n",
       "      <td>1</td>\n",
       "      <td>mother</td>\n",
       "    </tr>\n",
       "    <tr>\n",
       "      <th>9</th>\n",
       "      <td>hailan</td>\n",
       "      <td>t-shirt</td>\n",
       "      <td>2</td>\n",
       "      <td>father</td>\n",
       "    </tr>\n",
       "    <tr>\n",
       "      <th>10</th>\n",
       "      <td>hailan</td>\n",
       "      <td>sweater</td>\n",
       "      <td>1</td>\n",
       "      <td>father</td>\n",
       "    </tr>\n",
       "    <tr>\n",
       "      <th>11</th>\n",
       "      <td>hailan</td>\n",
       "      <td>pants</td>\n",
       "      <td>3</td>\n",
       "      <td>father</td>\n",
       "    </tr>\n",
       "  </tbody>\n",
       "</table>\n",
       "</div>"
      ],
      "text/plain": [
       "            Brand    Cloth  Count    Name\n",
       "0           uniql  sweater      3    girl\n",
       "1            etam     suit      1    girl\n",
       "2            etam    pants      1    girl\n",
       "3          lagogo   jacket      2    girl\n",
       "4                    pants      2     boy\n",
       "5          hailan  t-shirt      1     boy\n",
       "6   hengyuanxiang     coat      2  mother\n",
       "7   hengyuanxiang  sweater      1  mother\n",
       "8                     coat      1  mother\n",
       "9          hailan  t-shirt      2  father\n",
       "10         hailan  sweater      1  father\n",
       "11         hailan    pants      3  father"
      ]
     },
     "execution_count": 28,
     "metadata": {},
     "output_type": "execute_result"
    }
   ],
   "source": [
    "data"
   ]
  },
  {
   "cell_type": "code",
   "execution_count": 34,
   "metadata": {},
   "outputs": [
    {
     "data": {
      "text/plain": [
       "Brand\n",
       "                 2\n",
       "etam             2\n",
       "hailan           4\n",
       "hengyuanxiang    2\n",
       "lagogo           1\n",
       "uniql            1\n",
       "Name: Count, dtype: int64"
      ]
     },
     "execution_count": 34,
     "metadata": {},
     "output_type": "execute_result"
    }
   ],
   "source": [
    "# calculate how many person for each brand\n",
    "# data['Count'] could get a column\n",
    "# then group it by 'Brand'\n",
    "# gp1.count() means how many row in one brand, \n",
    "# for instance, hailan has 4 rows, so the result for hailan is 4 person\n",
    "gp1=data['Count'].groupby(data['Brand'])\n",
    "gp1.count()"
   ]
  },
  {
   "cell_type": "code",
   "execution_count": 36,
   "metadata": {},
   "outputs": [
    {
     "data": {
      "text/plain": [
       "Brand\n",
       "                 3\n",
       "etam             2\n",
       "hailan           7\n",
       "hengyuanxiang    3\n",
       "lagogo           2\n",
       "uniql            3\n",
       "Name: Count, dtype: int64"
      ]
     },
     "execution_count": 36,
     "metadata": {},
     "output_type": "execute_result"
    }
   ],
   "source": [
    "# get how many clothes for each brand\n",
    "gp1.agg(sum)\n"
   ]
  },
  {
   "cell_type": "code",
   "execution_count": 37,
   "metadata": {},
   "outputs": [
    {
     "name": "stdout",
     "output_type": "stream",
     "text": [
      "Brand\n",
      "                 1.50\n",
      "etam             1.00\n",
      "hailan           1.75\n",
      "hengyuanxiang    1.50\n",
      "lagogo           2.00\n",
      "uniql            3.00\n",
      "Name: Count, dtype: float64\n",
      "\n",
      "Brand\n",
      "                 1.50\n",
      "etam             1.00\n",
      "hailan           1.75\n",
      "hengyuanxiang    1.50\n",
      "lagogo           2.00\n",
      "uniql            3.00\n",
      "Name: Count, dtype: float64\n"
     ]
    }
   ],
   "source": [
    "# get average of on person for each branch\n",
    "print(gp1.mean())\n",
    "# or\n",
    "print('')\n",
    "print(gp1.agg(sum) / gp1.count())"
   ]
  },
  {
   "cell_type": "code",
   "execution_count": 39,
   "metadata": {},
   "outputs": [
    {
     "name": "stdout",
     "output_type": "stream",
     "text": [
      "\n",
      "  Brand  Cloth  Count    Name\n",
      "4        pants      2     boy\n",
      "8         coat      1  mother\n",
      "etam\n",
      "  Brand  Cloth  Count  Name\n",
      "1  etam   suit      1  girl\n",
      "2  etam  pants      1  girl\n",
      "hailan\n",
      "     Brand    Cloth  Count    Name\n",
      "5   hailan  t-shirt      1     boy\n",
      "9   hailan  t-shirt      2  father\n",
      "10  hailan  sweater      1  father\n",
      "11  hailan    pants      3  father\n",
      "hengyuanxiang\n",
      "           Brand    Cloth  Count    Name\n",
      "6  hengyuanxiang     coat      2  mother\n",
      "7  hengyuanxiang  sweater      1  mother\n",
      "lagogo\n",
      "    Brand   Cloth  Count  Name\n",
      "3  lagogo  jacket      2  girl\n",
      "uniql\n",
      "   Brand    Cloth  Count  Name\n",
      "0  uniql  sweater      3  girl\n"
     ]
    }
   ],
   "source": [
    "# go through the group by Brand\n",
    "for name, frame in data.groupby('Brand'):\n",
    "    print(name)\n",
    "    print(frame)\n"
   ]
  },
  {
   "cell_type": "code",
   "execution_count": 40,
   "metadata": {},
   "outputs": [
    {
     "name": "stdout",
     "output_type": "stream",
     "text": [
      "\n",
      "4    2\n",
      "8    1\n",
      "Name: Count, dtype: int64\n",
      "etam\n",
      "1    1\n",
      "2    1\n",
      "Name: Count, dtype: int64\n",
      "hailan\n",
      "5     1\n",
      "9     2\n",
      "10    1\n",
      "11    3\n",
      "Name: Count, dtype: int64\n",
      "hengyuanxiang\n",
      "6    2\n",
      "7    1\n",
      "Name: Count, dtype: int64\n",
      "lagogo\n",
      "3    2\n",
      "Name: Count, dtype: int64\n",
      "uniql\n",
      "0    3\n",
      "Name: Count, dtype: int64\n"
     ]
    }
   ],
   "source": [
    "# go through the Count group by Brand\n",
    "for name, frame in data['Count'].groupby(data['Brand']):\n",
    "    print(name)\n",
    "    print(frame)"
   ]
  },
  {
   "cell_type": "code",
   "execution_count": 41,
   "metadata": {},
   "outputs": [
    {
     "data": {
      "text/plain": [
       "Brand\n",
       "                 3\n",
       "etam             2\n",
       "hailan           7\n",
       "hengyuanxiang    3\n",
       "lagogo           2\n",
       "uniql            3\n",
       "Name: Count, dtype: int64"
      ]
     },
     "execution_count": 41,
     "metadata": {},
     "output_type": "execute_result"
    }
   ],
   "source": [
    "# sum for each brand\n",
    "data['Count'].groupby(data['Brand']).agg(sum)"
   ]
  },
  {
   "cell_type": "code",
   "execution_count": 43,
   "metadata": {},
   "outputs": [
    {
     "data": {
      "text/plain": [
       "<pandas.core.groupby.groupby.DataFrameGroupBy object at 0x0000020A7C321128>"
      ]
     },
     "execution_count": 43,
     "metadata": {},
     "output_type": "execute_result"
    }
   ],
   "source": [
    "# multi group\n",
    "data.groupby(['Brand', 'Name'])"
   ]
  },
  {
   "cell_type": "code",
   "execution_count": 44,
   "metadata": {},
   "outputs": [
    {
     "name": "stdout",
     "output_type": "stream",
     "text": [
      "('', 'boy')\n",
      "  Brand  Cloth  Count Name\n",
      "4        pants      2  boy\n",
      "('', 'mother')\n",
      "  Brand Cloth  Count    Name\n",
      "8        coat      1  mother\n",
      "('etam', 'girl')\n",
      "  Brand  Cloth  Count  Name\n",
      "1  etam   suit      1  girl\n",
      "2  etam  pants      1  girl\n",
      "('hailan', 'boy')\n",
      "    Brand    Cloth  Count Name\n",
      "5  hailan  t-shirt      1  boy\n",
      "('hailan', 'father')\n",
      "     Brand    Cloth  Count    Name\n",
      "9   hailan  t-shirt      2  father\n",
      "10  hailan  sweater      1  father\n",
      "11  hailan    pants      3  father\n",
      "('hengyuanxiang', 'mother')\n",
      "           Brand    Cloth  Count    Name\n",
      "6  hengyuanxiang     coat      2  mother\n",
      "7  hengyuanxiang  sweater      1  mother\n",
      "('lagogo', 'girl')\n",
      "    Brand   Cloth  Count  Name\n",
      "3  lagogo  jacket      2  girl\n",
      "('uniql', 'girl')\n",
      "   Brand    Cloth  Count  Name\n",
      "0  uniql  sweater      3  girl\n"
     ]
    }
   ],
   "source": [
    "for name, frame in data.groupby(['Brand', 'Name']):\n",
    "    print(name)\n",
    "    print(frame)"
   ]
  },
  {
   "cell_type": "code",
   "execution_count": 45,
   "metadata": {},
   "outputs": [
    {
     "data": {
      "text/html": [
       "<div>\n",
       "<style scoped>\n",
       "    .dataframe tbody tr th:only-of-type {\n",
       "        vertical-align: middle;\n",
       "    }\n",
       "\n",
       "    .dataframe tbody tr th {\n",
       "        vertical-align: top;\n",
       "    }\n",
       "\n",
       "    .dataframe thead th {\n",
       "        text-align: right;\n",
       "    }\n",
       "</style>\n",
       "<table border=\"1\" class=\"dataframe\">\n",
       "  <thead>\n",
       "    <tr style=\"text-align: right;\">\n",
       "      <th></th>\n",
       "      <th></th>\n",
       "      <th>Cloth</th>\n",
       "      <th>Count</th>\n",
       "    </tr>\n",
       "    <tr>\n",
       "      <th>Brand</th>\n",
       "      <th>Name</th>\n",
       "      <th></th>\n",
       "      <th></th>\n",
       "    </tr>\n",
       "  </thead>\n",
       "  <tbody>\n",
       "    <tr>\n",
       "      <th rowspan=\"2\" valign=\"top\"></th>\n",
       "      <th>boy</th>\n",
       "      <td>1</td>\n",
       "      <td>1</td>\n",
       "    </tr>\n",
       "    <tr>\n",
       "      <th>mother</th>\n",
       "      <td>1</td>\n",
       "      <td>1</td>\n",
       "    </tr>\n",
       "    <tr>\n",
       "      <th>etam</th>\n",
       "      <th>girl</th>\n",
       "      <td>2</td>\n",
       "      <td>2</td>\n",
       "    </tr>\n",
       "    <tr>\n",
       "      <th rowspan=\"2\" valign=\"top\">hailan</th>\n",
       "      <th>boy</th>\n",
       "      <td>1</td>\n",
       "      <td>1</td>\n",
       "    </tr>\n",
       "    <tr>\n",
       "      <th>father</th>\n",
       "      <td>3</td>\n",
       "      <td>3</td>\n",
       "    </tr>\n",
       "    <tr>\n",
       "      <th>hengyuanxiang</th>\n",
       "      <th>mother</th>\n",
       "      <td>2</td>\n",
       "      <td>2</td>\n",
       "    </tr>\n",
       "    <tr>\n",
       "      <th>lagogo</th>\n",
       "      <th>girl</th>\n",
       "      <td>1</td>\n",
       "      <td>1</td>\n",
       "    </tr>\n",
       "    <tr>\n",
       "      <th>uniql</th>\n",
       "      <th>girl</th>\n",
       "      <td>1</td>\n",
       "      <td>1</td>\n",
       "    </tr>\n",
       "  </tbody>\n",
       "</table>\n",
       "</div>"
      ],
      "text/plain": [
       "                      Cloth  Count\n",
       "Brand         Name                \n",
       "              boy         1      1\n",
       "              mother      1      1\n",
       "etam          girl        2      2\n",
       "hailan        boy         1      1\n",
       "              father      3      3\n",
       "hengyuanxiang mother      2      2\n",
       "lagogo        girl        1      1\n",
       "uniql         girl        1      1"
      ]
     },
     "execution_count": 45,
     "metadata": {},
     "output_type": "execute_result"
    }
   ],
   "source": [
    "data.groupby(['Brand', 'Name']).count()"
   ]
  },
  {
   "cell_type": "code",
   "execution_count": null,
   "metadata": {},
   "outputs": [],
   "source": []
  }
 ],
 "metadata": {
  "kernelspec": {
   "display_name": "Python 3",
   "language": "python",
   "name": "python3"
  },
  "language_info": {
   "codemirror_mode": {
    "name": "ipython",
    "version": 3
   },
   "file_extension": ".py",
   "mimetype": "text/x-python",
   "name": "python",
   "nbconvert_exporter": "python",
   "pygments_lexer": "ipython3",
   "version": "3.6.6"
  }
 },
 "nbformat": 4,
 "nbformat_minor": 2
}
