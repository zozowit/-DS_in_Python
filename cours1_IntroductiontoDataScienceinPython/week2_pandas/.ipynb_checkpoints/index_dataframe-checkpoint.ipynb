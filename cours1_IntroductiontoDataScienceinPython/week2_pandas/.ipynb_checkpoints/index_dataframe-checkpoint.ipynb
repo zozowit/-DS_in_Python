{
 "cells": [
  {
   "cell_type": "code",
   "execution_count": null,
   "metadata": {},
   "outputs": [],
   "source": [
    "import pandas as pd\n",
    "df = pd.read_csv('olympics.csv', index_col = 0, skiprows=1)\n",
    "df.columns\n",
    "for col in df.columns:\n",
    "    if col[:2] == '01':\n",
    "        df.rename(columns={col:'Gold'+col[4:]}, inplace = True)\n",
    "    if col[:2] == '02':\n",
    "        df.rename(columns={col:'Silver'+col[4:]}, inplace = True)\n",
    "    if col[:2] == '03':\n",
    "        df.rename(columns={col:'Bronze'+col[4:]}, inplace = True)\n",
    "    if col[:2] == '№':\n",
    "        df.rename(columns={col:'#'+col[4:]}, inplace = True)\n",
    "df.head()"
   ]
  },
  {
   "cell_type": "code",
   "execution_count": null,
   "metadata": {},
   "outputs": [],
   "source": []
  }
 ],
 "metadata": {
  "kernelspec": {
   "display_name": "Python 3",
   "language": "python",
   "name": "python3"
  },
  "language_info": {
   "name": ""
  }
 },
 "nbformat": 4,
 "nbformat_minor": 2
}
